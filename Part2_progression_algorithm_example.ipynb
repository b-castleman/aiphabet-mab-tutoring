{
 "cells": [
  {
   "cell_type": "code",
   "execution_count": 1,
   "metadata": {
    "pycharm": {
     "name": "#%%\n"
    }
   },
   "outputs": [],
   "source": [
    "import copy\n",
    "from tree import Build_Tree, Static_Tree\n",
    "import pickle\n",
    "import math\n",
    "import random\n",
    "from ZPDES_Memory_CONCEPT import ZPDES_Memory_CONCEPT\n",
    "from ZPDES_Memory_PROBLEM import ZPDES_Memory_PROBLEM\n",
    "import numpy as np"
   ]
  },
  {
   "cell_type": "markdown",
   "metadata": {
    "pycharm": {
     "name": "#%% md\n"
    }
   },
   "source": [
    "This notebook gives an example of using our code to progress students through a curriculum.\n",
    "\n",
    "# Load in a tree"
   ]
  },
  {
   "cell_type": "code",
   "execution_count": 2,
   "metadata": {
    "pycharm": {
     "name": "#%%\n"
    }
   },
   "outputs": [],
   "source": [
    "#Load in the trees created from the notebooks in Part1\n",
    "# progression_tree_build = Build_Tree(tree_filename = 'example_tree.p')\n",
    "progression_tree_static = Static_Tree(tree_filename = 'logical_agents_tree.txt')"
   ]
  },
  {
   "cell_type": "markdown",
   "metadata": {
    "pycharm": {
     "name": "#%% md\n"
    }
   },
   "source": [
    "# Instantiate a ZPDES_Memory Object\n",
    "The ZPDES_Memory progression algorithm combines the ZPDES algorithm[1] with a MCM model of forgetting[2]. To instantiate a progression algorithm object, we require a dictionary of parameters that is passed in through the ```params``` argument. The dictionary must contain the following four values as keys.\n",
    "1. 'history_lenth': and integer used for calculating the reward for the bandit. Reward for the bandit is calculated as (percent correctness in the last history_length problems) - (percent correctness between the last 2\\*history_length and last history_length problems)\n",
    "2. 'progress_threshold': a percentage value between 0 and 1 used for calculating when the student can move on. The student needs to get progress_threshold percent of the last 2*history_length problems correct for the concept to be considered mastered.\n",
    "3. 'memory_threshold': The memory strength threshold below which a learned item is considered in need of review and could be presented to the student again\n",
    "4. 'memory_multiplier': A factor that weighs between learning new items and reviewing items in need of review. The higher the value, with higher probability the algorithm will select a review problem as opposed to a new problem.\n",
    "\n",
    "[1]Clement, Benjamin, et al. \"Multi-armed bandits for intelligent tutoring systems.\" arXiv preprint arXiv:1310.3174 (2013).<br>\n",
    "[2]Pashler, Harold, et al. \"Predicting the optimal spacing of study: A multiscale context model of memory.\" Advances in neural information processing systems. 2009."
   ]
  },
  {
   "cell_type": "code",
   "execution_count": 5,
   "metadata": {
    "collapsed": false,
    "jupyter": {
     "outputs_hidden": false
    },
    "pycharm": {
     "name": "#%%\n"
    }
   },
   "outputs": [
    {
     "name": "stdout",
     "output_type": "stream",
     "text": [
      "['wumpus_world', 'wumpus_inference_examples', 'logic_review', 'knowledge_base_definition']\n",
      "Probabilities - ZPD:\n",
      "[0.55555556]\n",
      "Probabilities - pa\n",
      "[1.]\n",
      "Concept Seletion\n",
      "['knowledge_base_definition']\n"
     ]
    }
   ],
   "source": [
    "#choose either tree to use, they will function equivalently\n",
    "progression_tree = progression_tree_static\n",
    "#progression_tree = progression_tree_build\n",
    "\n",
    "#set some necessary parameters\n",
    "params = {\n",
    "    'history_length': 2,\n",
    "    'progress_threshold': 0.74,\n",
    "    'memory_threshold': math.exp(-12),\n",
    "    'memory_multiplier': 10e10,\n",
    "    'max_concept_attempts': 10,\n",
    "    'min_concept_attempts': 2,\n",
    "}\n",
    "\n",
    "#instantiate a progression algoirthm object\n",
    "#progression_algorithm = ZPDES_Memory_CONCEPT(progression_tree, params = params)\n",
    "\n",
    "#instantiate a progression algoirthm object\n",
    "progression_algorithm2 = ZPDES_Memory_PROBLEM(progression_tree, params = params)"
   ]
  },
  {
   "cell_type": "code",
   "execution_count": 4,
   "metadata": {},
   "outputs": [
    {
     "name": "stdout",
     "output_type": "stream",
     "text": [
      "knowledge_base_definition_p1\n"
     ]
    }
   ],
   "source": [
    "# #Get the problem to give to the student\n",
    "# problem_give = progression_algorithm.get_current_problem() \n",
    "# print(problem_give)\n",
    "\n",
    "problem_give = progression_algorithm.get_current_problem() \n",
    "\n",
    "print(problem_give)\n"
   ]
  },
  {
   "cell_type": "code",
   "execution_count": 17,
   "metadata": {},
   "outputs": [
    {
     "name": "stdout",
     "output_type": "stream",
     "text": [
      "CORRECTNESS MAP:\n",
      "{'wumpus_world': [False, False], 'wumpus_inference_examples': [], 'logic_review': [False, True, False], 'knowledge_base_definition': [False, False, False, False, False, False, True, True]}\n",
      "1 : 2 -- 0 : 1\n",
      "Reward:\n",
      "0.0\n",
      "Probabilities - ZPD:\n",
      "[0.18981481 0.27314815]\n",
      "Probabilities - pa\n",
      "[0.41 0.59]\n",
      "Concept Seletion\n",
      "['wumpus_world', 'logic_review']\n",
      "wumpus_world_p1\n"
     ]
    }
   ],
   "source": [
    "#Once the student answers, call the student_answer_update to update the state of the algorithm.\n",
    "# for i in range(10):\n",
    "Correctness_of_Student_Answer = False\n",
    "progression_algorithm.student_answer_update(Correctness_of_Student_Answer)\n",
    "\n",
    "# #Get the problem to give to the student\n",
    "# problem_give = progression_algorithm.get_current_problem() \n",
    "# print(problem_give)\n",
    "\n",
    "problem_give = progression_algorithm.get_current_problem() \n",
    "\n",
    "print(problem_give)"
   ]
  },
  {
   "cell_type": "markdown",
   "metadata": {
    "collapsed": false,
    "jupyter": {
     "outputs_hidden": false
    },
    "pycharm": {
     "name": "#%% md\n"
    }
   },
   "source": [
    "# Using the Progression Algorithm\n",
    "The progression algorithm has following functions:\n",
    "\n",
    "1. get_current_problem() - (returns string) Will return the current problem to give to the student in the form of a string\n",
    "    - Returns \"None\" once the algorithm is finished\n",
    "2. student_answer_update(Correctness_of_Student_Answer) - (returns None) Takes in the correctness of the student answer on the current problems, and updates the internal state of the algorithm and chooses the next problem.\n",
    "    - To get the next problem to give to the student, call \"get_current_problem()\" again.\n",
    "3. student_attempt_update(Correctness_of_Student_Attempt) - (returns None) Use this in the case where each problem can be attemtped multiple times. This takes in the correctness of the student attempt on the current problem and updates the internal states of the algorithm. It will automatically call student_answer_update(Correctness_of_Student_Answer) when the student's attempt is correct.\n",
    "    - Correctness of student attempt is a boolean\n",
    "    - This will not change the current problem until the student attempt is correct\n",
    "        - All attempts still counts as part of one problem\n",
    "    - The correctness of the student on the current problem in this case is set to be the student answering the problem correctly on the first attempt:\n",
    "        - correct on first attempt: Correctness_of_Student_Answer = True\n",
    "        - needs more than one attempt to get the problem correct: Correctness_of_Student_Answer = False\n",
    "4. get_progression_student_info() - (returns (list of strings, list of ints)) Returns:\n",
    "    - History of Questions (list of strings)\n",
    "    - History of Answers as a list on the number of incorrect attempts"
   ]
  },
  {
   "cell_type": "markdown",
   "metadata": {
    "collapsed": false,
    "jupyter": {
     "outputs_hidden": false
    },
    "pycharm": {
     "name": "#%% md\n"
    }
   },
   "source": [
    "# Situation 1: Direct Student Answer\n",
    "A student is given a problem and answers it, is immediately graded and told the correct answer and then moved on to the next problem."
   ]
  },
  {
   "cell_type": "code",
   "execution_count": 6,
   "metadata": {
    "collapsed": false,
    "jupyter": {
     "outputs_hidden": false
    },
    "pycharm": {
     "name": "#%%\n"
    }
   },
   "outputs": [
    {
     "ename": "NameError",
     "evalue": "name 'ZPDES_Memory' is not defined",
     "output_type": "error",
     "traceback": [
      "\u001b[0;31m---------------------------------------------------------------------------\u001b[0m",
      "\u001b[0;31mNameError\u001b[0m                                 Traceback (most recent call last)",
      "Cell \u001b[0;32mIn[6], line 2\u001b[0m\n\u001b[1;32m      1\u001b[0m \u001b[38;5;66;03m# Initialize progression algorithm\u001b[39;00m\n\u001b[0;32m----> 2\u001b[0m progression_algorithm \u001b[38;5;241m=\u001b[39m \u001b[43mZPDES_Memory\u001b[49m(progression_tree, params \u001b[38;5;241m=\u001b[39m params)\n\u001b[1;32m      4\u001b[0m problem_give \u001b[38;5;241m=\u001b[39m progression_algorithm\u001b[38;5;241m.\u001b[39mget_current_problem() \n\u001b[1;32m      5\u001b[0m \u001b[38;5;28mprint\u001b[39m(\u001b[38;5;124m\"\u001b[39m\u001b[38;5;124mCurrent Problem:\u001b[39m\u001b[38;5;124m\"\u001b[39m, problem_give)\n",
      "\u001b[0;31mNameError\u001b[0m: name 'ZPDES_Memory' is not defined"
     ]
    }
   ],
   "source": [
    "# Initialize progression algorithm\n",
    "progression_algorithm = ZPDES_Memory(progression_tree, params = params)\n",
    "\n",
    "problem_give = progression_algorithm.get_current_problem() \n",
    "print(\"Current Problem:\", problem_give)\n",
    "\n",
    "answer = input(\"Type in your answer:\\t\")\n",
    "\n",
    "while answer != \"break\":\n",
    "    \n",
    "\n",
    "    if answer == \"T\" or answer == \"t\":\n",
    "        Correctness_of_Student_Answer = True\n",
    "    else:\n",
    "        Correctness_of_Student_Answer = False\n",
    "\n",
    "    progression_algorithm.student_answer_update(Correctness_of_Student_Answer)\n",
    "\n",
    "    problem_give = progression_algorithm.get_current_problem() \n",
    "\n",
    "    print(\"Current Problem:\", problem_give)\n",
    "\n",
    "    answer = input(\"Type in your answer:\\t\")\n",
    "\n",
    "    \n",
    "        \n"
   ]
  },
  {
   "cell_type": "code",
   "execution_count": null,
   "metadata": {
    "collapsed": false,
    "jupyter": {
     "outputs_hidden": false
    },
    "pycharm": {
     "name": "#%%\n"
    }
   },
   "outputs": [],
   "source": [
    "#instantiate a progression algoirthm object\n",
    "\n",
    "progression_algorithm = ZPDES_Memory(progression_tree, params = params)\n",
    "\n",
    "#Get the problem to give to the student\n",
    "problem_give = progression_algorithm.get_current_problem() \n",
    "print(problem_give)"
   ]
  },
  {
   "cell_type": "code",
   "execution_count": null,
   "metadata": {
    "collapsed": false,
    "jupyter": {
     "outputs_hidden": false
    },
    "pycharm": {
     "name": "#%%\n"
    }
   },
   "outputs": [],
   "source": [
    "#instantiate a progression algoirthm object\n",
    "\n",
    "progression_algorithm = ZPDES_Memory(progression_tree, params = params)\n",
    "\n",
    "#Get the problem to give to the student\n",
    "problem_give = progression_algorithm.get_current_problem() \n",
    "print(problem_give)"
   ]
  },
  {
   "cell_type": "code",
   "execution_count": null,
   "metadata": {
    "collapsed": false,
    "jupyter": {
     "outputs_hidden": false
    },
    "pycharm": {
     "name": "#%%\n"
    }
   },
   "outputs": [],
   "source": [
    "#Once the student answers, call the student_answer_update to update the state of the algorithm.\n",
    "Correctness_of_Student_Answer = False\n",
    "progression_algorithm.student_answer_update(Correctness_of_Student_Answer)"
   ]
  },
  {
   "cell_type": "code",
   "execution_count": null,
   "metadata": {
    "collapsed": false,
    "jupyter": {
     "outputs_hidden": false
    },
    "pycharm": {
     "name": "#%%\n"
    }
   },
   "outputs": [],
   "source": [
    "#Once the student answers, call the student_answer_update to update the state of the algorithm.\n",
    "Correctness_of_Student_Answer = False\n",
    "progression_algorithm.student_answer_update(Correctness_of_Student_Answer)"
   ]
  },
  {
   "cell_type": "code",
   "execution_count": null,
   "metadata": {
    "collapsed": false,
    "jupyter": {
     "outputs_hidden": false
    },
    "pycharm": {
     "name": "#%%\n"
    }
   },
   "outputs": [],
   "source": [
    "#Get the next problem to give to the student\n",
    "problem_give = progression_algorithm.get_current_problem() \n",
    "print(problem_give)"
   ]
  },
  {
   "cell_type": "code",
   "execution_count": null,
   "metadata": {
    "collapsed": false,
    "jupyter": {
     "outputs_hidden": false
    },
    "pycharm": {
     "name": "#%%\n"
    }
   },
   "outputs": [],
   "source": [
    "#Get the next problem to give to the student\n",
    "problem_give = progression_algorithm.get_current_problem() \n",
    "print(problem_give)"
   ]
  },
  {
   "cell_type": "code",
   "execution_count": null,
   "metadata": {
    "pycharm": {
     "name": "#%%\n"
    }
   },
   "outputs": [],
   "source": [
    "#Get the next problem to give to the student\n",
    "problem_give = progression_algorithm.get_current_problem() \n",
    "print(problem_give)"
   ]
  },
  {
   "cell_type": "code",
   "execution_count": null,
   "metadata": {
    "pycharm": {
     "name": "#%%\n"
    }
   },
   "outputs": [],
   "source": [
    "#The Student answers the next problem\n",
    "Correctness_of_Student_Answer = True\n",
    "progression_algorithm.student_answer_update(Correctness_of_Student_Answer)"
   ]
  },
  {
   "cell_type": "code",
   "execution_count": null,
   "metadata": {
    "pycharm": {
     "name": "#%%\n"
    }
   },
   "outputs": [],
   "source": [
    "#Get information about the problem and answer history\n",
    "problem_history, answer_history = progression_algorithm.get_progression_student_info()\n",
    "print(\"problem history: \" + str(problem_history))\n",
    "print(\"answer history: \" + str(answer_history))\n",
    "print(\"^In this case, a answer of 1 indicates incorrect and a answer of 0 indicates correct\")"
   ]
  },
  {
   "cell_type": "markdown",
   "metadata": {
    "pycharm": {
     "name": "#%% md\n"
    }
   },
   "source": [
    "# Situation 2: Student has multiple attempts\n",
    "A student is given a problem and has multiple attempts at it. Each attempt is graded but the student must try the problem for a certain number of attempts or until they correctly answer the problem."
   ]
  },
  {
   "cell_type": "code",
   "execution_count": null,
   "metadata": {
    "pycharm": {
     "name": "#%%\n"
    }
   },
   "outputs": [],
   "source": [
    "#instantiate a progression algoirthm object\n",
    "progression_algorithm = ZPDES_Memory(progression_tree, params = params)\n",
    "\n",
    "#Get the problem to give to the student\n",
    "problem_give = progression_algorithm.get_current_problem() \n",
    "print(problem_give)"
   ]
  },
  {
   "cell_type": "code",
   "execution_count": null,
   "metadata": {
    "pycharm": {
     "name": "#%%\n"
    }
   },
   "outputs": [],
   "source": [
    "#Once the student answers, call the student_attempt_update to update the state of the algorithm.\n",
    "Correctness_of_Student_Attempt = False\n",
    "progression_algorithm.student_attempt_update(Correctness_of_Student_Attempt)"
   ]
  },
  {
   "cell_type": "code",
   "execution_count": null,
   "metadata": {
    "pycharm": {
     "name": "#%%\n"
    }
   },
   "outputs": [],
   "source": [
    "#Because the student attempted incorrectly, we are still on the same problem so this should not change\n",
    "problem_give = progression_algorithm.get_current_problem() \n",
    "print(problem_give)"
   ]
  },
  {
   "cell_type": "code",
   "execution_count": null,
   "metadata": {
    "pycharm": {
     "name": "#%%\n"
    }
   },
   "outputs": [],
   "source": [
    "#The student can attempt a problem wrongly multiple times and will still be on the same problem\n",
    "Correctness_of_Student_Attempt = False\n",
    "progression_algorithm.student_attempt_update(Correctness_of_Student_Attempt)\n",
    "problem_give = progression_algorithm.get_current_problem() \n",
    "print(problem_give)"
   ]
  },
  {
   "cell_type": "code",
   "execution_count": null,
   "metadata": {
    "pycharm": {
     "name": "#%%\n"
    }
   },
   "outputs": [],
   "source": [
    "#If the student answers correctly, the current problem will be considered completed and a new problem will be selected\n",
    "Correctness_of_Student_Attempt = True\n",
    "progression_algorithm.student_attempt_update(Correctness_of_Student_Attempt)\n",
    "problem_give = progression_algorithm.get_current_problem() \n",
    "print(problem_give)"
   ]
  },
  {
   "cell_type": "code",
   "execution_count": null,
   "metadata": {
    "pycharm": {
     "name": "#%%\n"
    }
   },
   "outputs": [],
   "source": [
    "#The student attempts the next problem\n",
    "Correctness_of_Student_Attempt = True\n",
    "progression_algorithm.student_attempt_update(Correctness_of_Student_Attempt)"
   ]
  },
  {
   "cell_type": "code",
   "execution_count": null,
   "metadata": {
    "pycharm": {
     "name": "#%%\n"
    }
   },
   "outputs": [],
   "source": [
    "#Multiple attempts on a problem all count under one problem, the answer_history lists the number of incorrect attempts on each problem \n",
    "problem_history, answer_history = progression_algorithm.get_progression_student_info()\n",
    "print(\"problem history: \" + str(problem_history))\n",
    "print(\"answer history: \" + str(answer_history))"
   ]
  },
  {
   "cell_type": "code",
   "execution_count": null,
   "metadata": {
    "pycharm": {
     "name": "#%%\n"
    }
   },
   "outputs": [],
   "source": []
  }
 ],
 "metadata": {
  "kernelspec": {
   "display_name": "Python 3 (ipykernel)",
   "language": "python",
   "name": "python3"
  },
  "language_info": {
   "codemirror_mode": {
    "name": "ipython",
    "version": 3
   },
   "file_extension": ".py",
   "mimetype": "text/x-python",
   "name": "python",
   "nbconvert_exporter": "python",
   "pygments_lexer": "ipython3",
   "version": "3.8.9"
  }
 },
 "nbformat": 4,
 "nbformat_minor": 4
}
