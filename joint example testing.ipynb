{
 "cells": [
  {
   "cell_type": "code",
   "execution_count": 1,
   "id": "b412d283-a12a-4d00-9dba-e70301de2305",
   "metadata": {},
   "outputs": [],
   "source": [
    "from Joint_Progression_Algorithm import Joint_Progression_Algorithm"
   ]
  },
  {
   "cell_type": "code",
   "execution_count": 24,
   "id": "7c74033a-dd11-4d17-ac88-ee7ef57d0966",
   "metadata": {},
   "outputs": [
    {
     "name": "stdout",
     "output_type": "stream",
     "text": [
      "Pre Explore Problem Weights:\n",
      "[0.5        0.29057661 0.29057661 0.43655872 0.43655872]\n",
      "Problem ZPD:\n",
      "[\"this is a placeholder for q3's id\", \"this is a placeholder for q5's id YAyasY\", \"this is a placeholder for q1's id\", \"this is a placeholder for q2's id\", \"this is a placeholder for q4's id yAYYY\"]\n",
      "Post Explore Problem Weights:\n",
      "[0.47       0.28151895 0.28151895 0.41290285 0.41290285]\n",
      "Problem Probability\n",
      "[0.25284537 0.15144843 0.15144843 0.22212888 0.22212888]\n",
      "Pre Explore Problem Weights:\n",
      "[0.29057661]\n",
      "Problem ZPD:\n",
      "[\"this is a placeholder for q1's id!\"]\n",
      "Post Explore Problem Weights:\n",
      "[0.36151895]\n",
      "Problem Probability\n",
      "[1.]\n",
      "Pre Explore Problem Weights:\n",
      "[0.43655872]\n",
      "Problem ZPD:\n",
      "[\"this is a placeholder for q4's id!\"]\n",
      "Post Explore Problem Weights:\n",
      "[0.49290285]\n",
      "Problem Probability\n",
      "[1.]\n"
     ]
    }
   ],
   "source": [
    "algo = Joint_Progression_Algorithm(\"rational_agents\")"
   ]
  },
  {
   "cell_type": "code",
   "execution_count": 25,
   "id": "2beff3c1-34ce-4127-8b77-e5de30c391f7",
   "metadata": {},
   "outputs": [
    {
     "name": "stdout",
     "output_type": "stream",
     "text": [
      "('acting_rationally', \"this is a placeholder for q3's id\")\n"
     ]
    }
   ],
   "source": [
    "print(algo.getCurrentQuestionId())"
   ]
  },
  {
   "cell_type": "code",
   "execution_count": 32,
   "id": "5beea6ad-fb09-401f-a521-071eaa82df4e",
   "metadata": {},
   "outputs": [
    {
     "name": "stdout",
     "output_type": "stream",
     "text": [
      "Pre Explore Problem Weights:\n",
      "[0.13226063 0.19870675 0.28376317]\n",
      "Problem ZPD:\n",
      "[\"this is a placeholder for q1's id\", \"this is a placeholder for q2's id\", \"this is a placeholder for q4's id yAYYY\"]\n",
      "Post Explore Problem Weights:\n",
      "[0.1523679  0.2121694  0.28872018]\n",
      "Problem Probability\n",
      "[0.23324325 0.32478679 0.44196996]\n"
     ]
    }
   ],
   "source": [
    "algo.updateStudentCorrectness(True)"
   ]
  },
  {
   "cell_type": "code",
   "execution_count": 33,
   "id": "f3621cd8-83a0-4526-bf91-8d246efcc388",
   "metadata": {},
   "outputs": [
    {
     "name": "stdout",
     "output_type": "stream",
     "text": [
      "('peas', \"this is a placeholder for q1's id!\")\n"
     ]
    }
   ],
   "source": [
    "print(algo.getCurrentQuestionId())"
   ]
  },
  {
   "cell_type": "code",
   "execution_count": 28,
   "id": "31ced50b-d12b-4619-a9e4-1c6eda6d1d91",
   "metadata": {},
   "outputs": [
    {
     "name": "stdout",
     "output_type": "stream",
     "text": [
      "Pre Explore Problem Weights:\n",
      "[0.75       0.29057661 0.22352047 0.3358144 ]\n",
      "Problem ZPD:\n",
      "[\"this is a placeholder for q3's id\", \"this is a placeholder for q5's id YAyasY\", \"this is a placeholder for q1's id\", \"this is a placeholder for q2's id\"]\n",
      "Post Explore Problem Weights:\n",
      "[0.7        0.28651895 0.22616842 0.32723296]\n",
      "Problem Probability\n",
      "[0.45456897 0.18606089 0.14687021 0.21249993]\n"
     ]
    }
   ],
   "source": [
    "algo.updateStudentCorrectness(False)"
   ]
  },
  {
   "cell_type": "code",
   "execution_count": 29,
   "id": "3ac2b1e5-d603-46df-971d-a3fa821a4f66",
   "metadata": {},
   "outputs": [
    {
     "name": "stdout",
     "output_type": "stream",
     "text": [
      "('acting_rationally', \"this is a placeholder for q3's id\")\n"
     ]
    }
   ],
   "source": [
    "print(algo.getCurrentQuestionId())"
   ]
  },
  {
   "cell_type": "code",
   "execution_count": null,
   "id": "8338f1f2-46f5-49e8-b298-ddd671c60c2c",
   "metadata": {},
   "outputs": [],
   "source": []
  }
 ],
 "metadata": {
  "kernelspec": {
   "display_name": "Python 3 (ipykernel)",
   "language": "python",
   "name": "python3"
  },
  "language_info": {
   "codemirror_mode": {
    "name": "ipython",
    "version": 3
   },
   "file_extension": ".py",
   "mimetype": "text/x-python",
   "name": "python",
   "nbconvert_exporter": "python",
   "pygments_lexer": "ipython3",
   "version": "3.8.9"
  }
 },
 "nbformat": 4,
 "nbformat_minor": 5
}
