{
 "cells": [
  {
   "cell_type": "code",
   "execution_count": 1,
   "id": "b412d283-a12a-4d00-9dba-e70301de2305",
   "metadata": {},
   "outputs": [
    {
     "name": "stdout",
     "output_type": "stream",
     "text": [
      "Importing Complete!\n"
     ]
    }
   ],
   "source": [
    "from Joint_Progression_Algorithm import Joint_Progression_Algorithm"
   ]
  },
  {
   "cell_type": "code",
   "execution_count": 2,
   "id": "7c74033a-dd11-4d17-ac88-ee7ef57d0966",
   "metadata": {},
   "outputs": [
    {
     "name": "stdout",
     "output_type": "stream",
     "text": [
      "ALL CONCEPTS: [\"this is a placeholder for q1's id\", \"this is a placeholder for q2's id\", \"this is a placeholder for q3's id\", \"this is a placeholder for q4's id yAYYY\", \"this is a placeholder for q5's id YAyasY\"]\n",
      "Before for this is a placeholder for q2's id : 0.5\n",
      "After for this is a placeholder for q2's id : 0.4365587187996227\n",
      "Before for this is a placeholder for q1's id : 0.5\n",
      "After for this is a placeholder for q1's id : 0.29057660939597096\n",
      "Before for this is a placeholder for q3's id : 0.5\n",
      "After for this is a placeholder for q3's id : 0.5\n",
      "Before for this is a placeholder for q5's id YAyasY : 0.5\n",
      "After for this is a placeholder for q5's id YAyasY : 0.29057660939597096\n",
      "Before for this is a placeholder for q4's id yAYYY : 0.5\n",
      "After for this is a placeholder for q4's id yAYYY : 0.4365587187996227\n",
      "Probabilities - pa\n",
      "[0.22104833 0.15381921 0.25026493 0.15381921 0.22104833]\n",
      "Concept Selection\n",
      "[\"this is a placeholder for q2's id\", \"this is a placeholder for q1's id\", \"this is a placeholder for q3's id\", \"this is a placeholder for q5's id YAyasY\", \"this is a placeholder for q4's id yAYYY\"]\n",
      "ALL CONCEPTS: [\"this is a placeholder for q1's id!\"]\n",
      "Before for this is a placeholder for q1's id! : 0.5\n",
      "After for this is a placeholder for q1's id! : 0.29057660939597096\n",
      "Probabilities - pa\n",
      "[1.]\n",
      "Concept Selection\n",
      "[\"this is a placeholder for q1's id!\"]\n",
      "ALL CONCEPTS: [\"this is a placeholder for q4's id!\"]\n",
      "Before for this is a placeholder for q4's id! : 0.5\n",
      "After for this is a placeholder for q4's id! : 0.4365587187996227\n",
      "Probabilities - pa\n",
      "[1.]\n",
      "Concept Selection\n",
      "[\"this is a placeholder for q4's id!\"]\n"
     ]
    }
   ],
   "source": [
    "algo = Joint_Progression_Algorithm(\"rational_agents\")"
   ]
  },
  {
   "cell_type": "code",
   "execution_count": 3,
   "id": "2beff3c1-34ce-4127-8b77-e5de30c391f7",
   "metadata": {},
   "outputs": [
    {
     "name": "stdout",
     "output_type": "stream",
     "text": [
      "('acting_rationally', \"this is a placeholder for q4's id yAYYY\")\n"
     ]
    }
   ],
   "source": [
    "print(algo.getCurrentQuestionId())"
   ]
  },
  {
   "cell_type": "code",
   "execution_count": 4,
   "id": "5beea6ad-fb09-401f-a521-071eaa82df4e",
   "metadata": {},
   "outputs": [
    {
     "name": "stdout",
     "output_type": "stream",
     "text": [
      "Before for this is a placeholder for q2's id : 0.5\n",
      "After for this is a placeholder for q2's id : 0.33581439907663285\n",
      "Before for this is a placeholder for q1's id : 0.5\n",
      "After for this is a placeholder for q1's id : 0.2235204687661315\n",
      "Before for this is a placeholder for q3's id : 0.5\n",
      "After for this is a placeholder for q3's id : 0.3846153846153846\n",
      "Before for this is a placeholder for q5's id YAyasY : 0.5\n",
      "After for this is a placeholder for q5's id YAyasY : 0.3777495922147623\n",
      "Probabilities - pa\n",
      "[0.25362911 0.17801316 0.28649049 0.28186724]\n",
      "Concept Selection\n",
      "[\"this is a placeholder for q2's id\", \"this is a placeholder for q1's id\", \"this is a placeholder for q3's id\", \"this is a placeholder for q5's id YAyasY\"]\n"
     ]
    }
   ],
   "source": [
    "algo.updateStudentCorrectness(True)"
   ]
  },
  {
   "cell_type": "code",
   "execution_count": 5,
   "id": "f3621cd8-83a0-4526-bf91-8d246efcc388",
   "metadata": {},
   "outputs": [
    {
     "name": "stdout",
     "output_type": "stream",
     "text": [
      "('acting_rationally', \"this is a placeholder for q1's id\")\n"
     ]
    }
   ],
   "source": [
    "print(algo.getCurrentQuestionId())"
   ]
  },
  {
   "cell_type": "code",
   "execution_count": 6,
   "id": "31ced50b-d12b-4619-a9e4-1c6eda6d1d91",
   "metadata": {},
   "outputs": [
    {
     "name": "stdout",
     "output_type": "stream",
     "text": [
      "Before for this is a placeholder for q2's id : 0.5\n",
      "After for this is a placeholder for q2's id : 0.4365587187996227\n",
      "Before for this is a placeholder for q3's id : 0.5\n",
      "After for this is a placeholder for q3's id : 0.5\n",
      "Before for this is a placeholder for q5's id YAyasY : 0.5\n",
      "After for this is a placeholder for q5's id YAyasY : 0.491074469879191\n",
      "Probabilities - pa\n",
      "[0.30912445 0.34818552 0.34269003]\n",
      "Concept Selection\n",
      "[\"this is a placeholder for q2's id\", \"this is a placeholder for q3's id\", \"this is a placeholder for q5's id YAyasY\"]\n"
     ]
    }
   ],
   "source": [
    "algo.updateStudentCorrectness(True)"
   ]
  },
  {
   "cell_type": "code",
   "execution_count": 7,
   "id": "3ac2b1e5-d603-46df-971d-a3fa821a4f66",
   "metadata": {},
   "outputs": [
    {
     "name": "stdout",
     "output_type": "stream",
     "text": [
      "('environment_types', \"this is a placeholder for q4's id!\")\n"
     ]
    }
   ],
   "source": [
    "print(algo.getCurrentQuestionId())"
   ]
  },
  {
   "cell_type": "code",
   "execution_count": null,
   "id": "8338f1f2-46f5-49e8-b298-ddd671c60c2c",
   "metadata": {},
   "outputs": [],
   "source": []
  }
 ],
 "metadata": {
  "kernelspec": {
   "display_name": "Python 3 (ipykernel)",
   "language": "python",
   "name": "python3"
  },
  "language_info": {
   "codemirror_mode": {
    "name": "ipython",
    "version": 3
   },
   "file_extension": ".py",
   "mimetype": "text/x-python",
   "name": "python",
   "nbconvert_exporter": "python",
   "pygments_lexer": "ipython3",
   "version": "3.8.9"
  }
 },
 "nbformat": 4,
 "nbformat_minor": 5
}
