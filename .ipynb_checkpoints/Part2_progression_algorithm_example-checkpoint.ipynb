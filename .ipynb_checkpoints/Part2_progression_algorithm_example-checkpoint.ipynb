{
 "cells": [
  {
   "cell_type": "code",
   "execution_count": 1,
   "metadata": {
    "pycharm": {
     "name": "#%%\n"
    }
   },
   "outputs": [],
   "source": [
    "import copy\n",
    "from tree import Build_Tree, Static_Tree\n",
    "import pickle\n",
    "import math\n",
    "import random\n",
    "from ZPDES_Memory import ZPDES_Memory\n",
    "import numpy as np"
   ]
  },
  {
   "cell_type": "markdown",
   "metadata": {
    "pycharm": {
     "name": "#%% md\n"
    }
   },
   "source": [
    "This notebook gives an example of using our code to progress students through a curriculum.\n",
    "\n",
    "# Load in a tree"
   ]
  },
  {
   "cell_type": "code",
   "execution_count": 2,
   "metadata": {
    "pycharm": {
     "name": "#%%\n"
    }
   },
   "outputs": [],
   "source": [
    "#Load in the trees created from the notebooks in Part1\n",
    "progression_tree_build = Build_Tree(tree_filename = 'example_tree.p')\n",
    "progression_tree_static = Static_Tree(tree_filename = 'example_tree.txt')"
   ]
  },
  {
   "cell_type": "markdown",
   "metadata": {
    "pycharm": {
     "name": "#%% md\n"
    }
   },
   "source": [
    "# Instantiate a ZPDES_Memory Object\n",
    "The ZPDES_Memory progression algorithm combines the ZPDES algorithm[1] with a MCM model of forgetting[2]. To instantiate a progression algorithm object, we require a dictionary of parameters that is passed in through the ```params``` argument. The dictionary must contain the following four values as keys.\n",
    "1. 'history_lenth': and integer used for calculating the reward for the bandit. Reward for the bandit is calculated as (percent correctness in the last history_length problems) - (percent correctness between the last 2\\*history_length and last history_length problems)\n",
    "2. 'progress_threshold': a percentage value between 0 and 1 used for calculating when the student can move on. The student needs to get progress_threshold percent of the last 2*history_length problems correct for the concept to be considered mastered.\n",
    "3. 'memory_threshold': The memory strength threshold below which a learned item is considered in need of review and could be presented to the student again\n",
    "4. 'memory_multiplier': A factor that weighs between learning new items and reviewing items in need of review. The higher the value, with higher probability the algorithm will select a review problem as opposed to a new problem.\n",
    "\n",
    "[1]Clement, Benjamin, et al. \"Multi-armed bandits for intelligent tutoring systems.\" arXiv preprint arXiv:1310.3174 (2013).<br>\n",
    "[2]Pashler, Harold, et al. \"Predicting the optimal spacing of study: A multiscale context model of memory.\" Advances in neural information processing systems. 2009."
   ]
  },
  {
   "cell_type": "code",
   "execution_count": 3,
   "metadata": {
    "pycharm": {
     "name": "#%%\n"
    }
   },
   "outputs": [],
   "source": [
    "#choose either tree to use, they will function equivalently\n",
    "progression_tree = progression_tree_static\n",
    "#progression_tree = progression_tree_build\n",
    "\n",
    "#set some necessary parameters\n",
    "params = {\n",
    "    'history_length': 2,\n",
    "    'progress_threshold': 0.74,\n",
    "    'memory_threshold': math.exp(-12),\n",
    "    'memory_multiplier': 10e10\n",
    "}\n",
    "\n",
    "#instantiate a progression algoirthm object\n",
    "progression_algorithm = ZPDES_Memory(progression_tree, params = params)"
   ]
  },
  {
   "cell_type": "markdown",
   "metadata": {
    "pycharm": {
     "name": "#%% md\n"
    }
   },
   "source": [
    "# Using the Progression Algorithm\n",
    "The progression algorithm has following functions:\n",
    "\n",
    "1. get_current_problem() - (returns string) Will return the current problem to give to the student in the form of a string\n",
    "    - Returns \"None\" once the algorithm is finished\n",
    "2. student_answer_update(Correctness_of_Student_Answer) - (returns None) Takes in the correctness of the student answer on the current problems, and updates the internal state of the algorithm and chooses the next problem.\n",
    "    - To get the next problem to give to the student, call \"get_current_problem()\" again.\n",
    "3. student_attempt_update(Correctness_of_Student_Attempt) - (returns None) Use this in the case where each problem can be attemtped multiple times. This takes in the correctness of the student attempt on the current problem and updates the internal states of the algorithm. It will automatically call student_answer_update(Correctness_of_Student_Answer) when the student's attempt is correct.\n",
    "    - Correctness of student attempt is a boolean\n",
    "    - This will not change the current problem until the student attempt is correct\n",
    "        - All attempts still counts as part of one problem\n",
    "    - The correctness of the student on the current problem in this case is set to be the student answering the problem correctly on the first attempt:\n",
    "        - correct on first attempt: Correctness_of_Student_Answer = True\n",
    "        - needs more than one attempt to get the problem correct: Correctness_of_Student_Answer = False\n",
    "4. get_progression_student_info() - (returns (list of strings, list of ints)) Returns:\n",
    "    - History of Questions (list of strings)\n",
    "    - History of Answers as a list on the number of incorrect attempts"
   ]
  },
  {
   "cell_type": "markdown",
   "metadata": {
    "pycharm": {
     "name": "#%% md\n"
    }
   },
   "source": [
    "# Situation 1: Direct Student Answer\n",
    "A student is given a problem and answers it, is immediately graded and told the correct answer and then moved on to the next problem."
   ]
  },
  {
   "cell_type": "code",
   "execution_count": null,
   "metadata": {},
   "outputs": [
    {
     "name": "stdout",
     "output_type": "stream",
     "text": [
      "Current Problem: intro_p1\n"
     ]
    },
    {
     "name": "stdin",
     "output_type": "stream",
     "text": [
      "Type in your answer:\t t\n"
     ]
    },
    {
     "name": "stdout",
     "output_type": "stream",
     "text": [
      "Current Problem: intro_p2\n"
     ]
    },
    {
     "name": "stdin",
     "output_type": "stream",
     "text": [
      "Type in your answer:\t f\n"
     ]
    },
    {
     "name": "stdout",
     "output_type": "stream",
     "text": [
      "Current Problem: intro_p3\n"
     ]
    },
    {
     "name": "stdin",
     "output_type": "stream",
     "text": [
      "Type in your answer:\t t\n"
     ]
    },
    {
     "name": "stdout",
     "output_type": "stream",
     "text": [
      "Current Problem: intro_p2\n"
     ]
    },
    {
     "name": "stdin",
     "output_type": "stream",
     "text": [
      "Type in your answer:\t t\n"
     ]
    },
    {
     "name": "stdout",
     "output_type": "stream",
     "text": [
      "Current Problem: app_p1\n"
     ]
    },
    {
     "name": "stdin",
     "output_type": "stream",
     "text": [
      "Type in your answer:\t t\n"
     ]
    },
    {
     "name": "stdout",
     "output_type": "stream",
     "text": [
      "Current Problem: app_p2\n"
     ]
    },
    {
     "name": "stdin",
     "output_type": "stream",
     "text": [
      "Type in your answer:\t f\n"
     ]
    },
    {
     "name": "stdout",
     "output_type": "stream",
     "text": [
      "Current Problem: logical_p1\n"
     ]
    },
    {
     "name": "stdin",
     "output_type": "stream",
     "text": [
      "Type in your answer:\t t\n"
     ]
    },
    {
     "name": "stdout",
     "output_type": "stream",
     "text": [
      "Current Problem: logical_p2\n"
     ]
    },
    {
     "name": "stdin",
     "output_type": "stream",
     "text": [
      "Type in your answer:\t t\n"
     ]
    },
    {
     "name": "stdout",
     "output_type": "stream",
     "text": [
      "Current Problem: app_p2\n"
     ]
    },
    {
     "name": "stdin",
     "output_type": "stream",
     "text": [
      "Type in your answer:\t t\n"
     ]
    },
    {
     "name": "stdout",
     "output_type": "stream",
     "text": [
      "Current Problem: history_p1\n"
     ]
    },
    {
     "name": "stdin",
     "output_type": "stream",
     "text": [
      "Type in your answer:\t f\n"
     ]
    },
    {
     "name": "stdout",
     "output_type": "stream",
     "text": [
      "Current Problem: logical_p3\n"
     ]
    },
    {
     "name": "stdin",
     "output_type": "stream",
     "text": [
      "Type in your answer:\t t\n"
     ]
    },
    {
     "name": "stdout",
     "output_type": "stream",
     "text": [
      "Current Problem: app_p3\n"
     ]
    },
    {
     "name": "stdin",
     "output_type": "stream",
     "text": [
      "Type in your answer:\t t\n"
     ]
    },
    {
     "name": "stdout",
     "output_type": "stream",
     "text": [
      "Current Problem: history_p1\n"
     ]
    },
    {
     "name": "stdin",
     "output_type": "stream",
     "text": [
      "Type in your answer:\t f\n"
     ]
    },
    {
     "name": "stdout",
     "output_type": "stream",
     "text": [
      "Current Problem: history_p2\n"
     ]
    },
    {
     "name": "stdin",
     "output_type": "stream",
     "text": [
      "Type in your answer:\t f\n"
     ]
    },
    {
     "name": "stdout",
     "output_type": "stream",
     "text": [
      "Current Problem: logical_p4\n"
     ]
    },
    {
     "name": "stdin",
     "output_type": "stream",
     "text": [
      "Type in your answer:\t t\n"
     ]
    },
    {
     "name": "stdout",
     "output_type": "stream",
     "text": [
      "Current Problem: history_p1\n"
     ]
    },
    {
     "name": "stdin",
     "output_type": "stream",
     "text": [
      "Type in your answer:\t t\n"
     ]
    },
    {
     "name": "stdout",
     "output_type": "stream",
     "text": [
      "Current Problem: history_p2\n"
     ]
    },
    {
     "name": "stdin",
     "output_type": "stream",
     "text": [
      "Type in your answer:\t t\n"
     ]
    },
    {
     "name": "stdout",
     "output_type": "stream",
     "text": [
      "Current Problem: history_p3\n"
     ]
    },
    {
     "name": "stdin",
     "output_type": "stream",
     "text": [
      "Type in your answer:\t t\n"
     ]
    },
    {
     "name": "stdout",
     "output_type": "stream",
     "text": [
      "Current Problem: hello_world_p1\n"
     ]
    },
    {
     "name": "stdin",
     "output_type": "stream",
     "text": [
      "Type in your answer:\t t\n"
     ]
    },
    {
     "name": "stdout",
     "output_type": "stream",
     "text": [
      "Current Problem: rational_agents_p1\n"
     ]
    },
    {
     "name": "stdin",
     "output_type": "stream",
     "text": [
      "Type in your answer:\t f\n"
     ]
    },
    {
     "name": "stdout",
     "output_type": "stream",
     "text": [
      "Current Problem: rational_agents_p2\n"
     ]
    },
    {
     "name": "stdin",
     "output_type": "stream",
     "text": [
      "Type in your answer:\t f\n"
     ]
    },
    {
     "name": "stdout",
     "output_type": "stream",
     "text": [
      "Current Problem: rational_agents_p1\n"
     ]
    },
    {
     "name": "stdin",
     "output_type": "stream",
     "text": [
      "Type in your answer:\t f\n"
     ]
    },
    {
     "name": "stdout",
     "output_type": "stream",
     "text": [
      "Current Problem: rational_agents_p2\n"
     ]
    },
    {
     "name": "stdin",
     "output_type": "stream",
     "text": [
      "Type in your answer:\t f\n"
     ]
    },
    {
     "name": "stdout",
     "output_type": "stream",
     "text": [
      "Current Problem: hello_world_p2\n"
     ]
    },
    {
     "name": "stdin",
     "output_type": "stream",
     "text": [
      "Type in your answer:\t t\n"
     ]
    },
    {
     "name": "stdout",
     "output_type": "stream",
     "text": [
      "Current Problem: hello_world_p3\n"
     ]
    },
    {
     "name": "stdin",
     "output_type": "stream",
     "text": [
      "Type in your answer:\t t\n"
     ]
    },
    {
     "name": "stdout",
     "output_type": "stream",
     "text": [
      "Current Problem: hello_world_p4\n"
     ]
    },
    {
     "name": "stdin",
     "output_type": "stream",
     "text": [
      "Type in your answer:\t t\n"
     ]
    },
    {
     "name": "stdout",
     "output_type": "stream",
     "text": [
      "Current Problem: ops_p1\n"
     ]
    },
    {
     "name": "stdin",
     "output_type": "stream",
     "text": [
      "Type in your answer:\t t\n"
     ]
    },
    {
     "name": "stdout",
     "output_type": "stream",
     "text": [
      "Current Problem: ops_p1\n"
     ]
    },
    {
     "name": "stdin",
     "output_type": "stream",
     "text": [
      "Type in your answer:\t t\n"
     ]
    },
    {
     "name": "stdout",
     "output_type": "stream",
     "text": [
      "Current Problem: ops_p1\n"
     ]
    },
    {
     "name": "stdin",
     "output_type": "stream",
     "text": [
      "Type in your answer:\t t\n"
     ]
    },
    {
     "name": "stdout",
     "output_type": "stream",
     "text": [
      "Current Problem: ops_p1\n"
     ]
    },
    {
     "name": "stdin",
     "output_type": "stream",
     "text": [
      "Type in your answer:\t t\n"
     ]
    },
    {
     "name": "stdout",
     "output_type": "stream",
     "text": [
      "Current Problem: conditionals_p1\n"
     ]
    },
    {
     "name": "stdin",
     "output_type": "stream",
     "text": [
      "Type in your answer:\t t\n"
     ]
    },
    {
     "name": "stdout",
     "output_type": "stream",
     "text": [
      "Current Problem: conditionals_p1\n"
     ]
    },
    {
     "name": "stdin",
     "output_type": "stream",
     "text": [
      "Type in your answer:\t t\n"
     ]
    },
    {
     "name": "stdout",
     "output_type": "stream",
     "text": [
      "Current Problem: rational_agents_p1\n"
     ]
    },
    {
     "name": "stdin",
     "output_type": "stream",
     "text": [
      "Type in your answer:\t t\n"
     ]
    },
    {
     "name": "stdout",
     "output_type": "stream",
     "text": [
      "Current Problem: rational_agents_p2\n"
     ]
    },
    {
     "name": "stdin",
     "output_type": "stream",
     "text": [
      "Type in your answer:\t t\n"
     ]
    },
    {
     "name": "stdout",
     "output_type": "stream",
     "text": [
      "Current Problem: conditionals_p1\n"
     ]
    },
    {
     "name": "stdin",
     "output_type": "stream",
     "text": [
      "Type in your answer:\t t\n"
     ]
    },
    {
     "name": "stdout",
     "output_type": "stream",
     "text": [
      "Current Problem: rational_agents_p3\n"
     ]
    },
    {
     "name": "stdin",
     "output_type": "stream",
     "text": [
      "Type in your answer:\t t\n"
     ]
    },
    {
     "name": "stdout",
     "output_type": "stream",
     "text": [
      "Current Problem: conditionals_p1\n"
     ]
    },
    {
     "name": "stdin",
     "output_type": "stream",
     "text": [
      "Type in your answer:\t t\n"
     ]
    },
    {
     "name": "stdout",
     "output_type": "stream",
     "text": [
      "Current Problem: loops_p1\n"
     ]
    },
    {
     "name": "stdin",
     "output_type": "stream",
     "text": [
      "Type in your answer:\t f\n"
     ]
    },
    {
     "name": "stdout",
     "output_type": "stream",
     "text": [
      "Current Problem: search_p1\n"
     ]
    },
    {
     "name": "stdin",
     "output_type": "stream",
     "text": [
      "Type in your answer:\t t\n"
     ]
    },
    {
     "name": "stdout",
     "output_type": "stream",
     "text": [
      "Current Problem: search_p2\n"
     ]
    },
    {
     "name": "stdin",
     "output_type": "stream",
     "text": [
      "Type in your answer:\t t\n"
     ]
    },
    {
     "name": "stdout",
     "output_type": "stream",
     "text": [
      "Current Problem: search_p3\n"
     ]
    },
    {
     "name": "stdin",
     "output_type": "stream",
     "text": [
      "Type in your answer:\t f\n"
     ]
    },
    {
     "name": "stdout",
     "output_type": "stream",
     "text": [
      "Current Problem: loops_p1\n"
     ]
    },
    {
     "name": "stdin",
     "output_type": "stream",
     "text": [
      "Type in your answer:\t t\n"
     ]
    },
    {
     "name": "stdout",
     "output_type": "stream",
     "text": [
      "Current Problem: search_p3\n"
     ]
    },
    {
     "name": "stdin",
     "output_type": "stream",
     "text": [
      "Type in your answer:\t f\n"
     ]
    },
    {
     "name": "stdout",
     "output_type": "stream",
     "text": [
      "Current Problem: loops_p1\n"
     ]
    },
    {
     "name": "stdin",
     "output_type": "stream",
     "text": [
      "Type in your answer:\t t\n"
     ]
    },
    {
     "name": "stdout",
     "output_type": "stream",
     "text": [
      "Current Problem: loops_p1\n"
     ]
    },
    {
     "name": "stdin",
     "output_type": "stream",
     "text": [
      "Type in your answer:\t f\n"
     ]
    },
    {
     "name": "stdout",
     "output_type": "stream",
     "text": [
      "Current Problem: loops_p1\n"
     ]
    },
    {
     "name": "stdin",
     "output_type": "stream",
     "text": [
      "Type in your answer:\t t\n"
     ]
    },
    {
     "name": "stdout",
     "output_type": "stream",
     "text": [
      "Current Problem: functions_p1\n"
     ]
    },
    {
     "name": "stdin",
     "output_type": "stream",
     "text": [
      "Type in your answer:\t t\n"
     ]
    },
    {
     "name": "stdout",
     "output_type": "stream",
     "text": [
      "Current Problem: functions_p1\n"
     ]
    },
    {
     "name": "stdin",
     "output_type": "stream",
     "text": [
      "Type in your answer:\t t\n"
     ]
    },
    {
     "name": "stdout",
     "output_type": "stream",
     "text": [
      "Current Problem: functions_p1\n"
     ]
    },
    {
     "name": "stdin",
     "output_type": "stream",
     "text": [
      "Type in your answer:\t t\n"
     ]
    },
    {
     "name": "stdout",
     "output_type": "stream",
     "text": [
      "Current Problem: functions_p1\n"
     ]
    },
    {
     "name": "stdin",
     "output_type": "stream",
     "text": [
      "Type in your answer:\t t\n"
     ]
    },
    {
     "name": "stdout",
     "output_type": "stream",
     "text": [
      "Current Problem: classes_p1\n"
     ]
    },
    {
     "name": "stdin",
     "output_type": "stream",
     "text": [
      "Type in your answer:\t t\n"
     ]
    },
    {
     "name": "stdout",
     "output_type": "stream",
     "text": [
      "Current Problem: classes_p1\n"
     ]
    },
    {
     "name": "stdin",
     "output_type": "stream",
     "text": [
      "Type in your answer:\t t\n"
     ]
    },
    {
     "name": "stdout",
     "output_type": "stream",
     "text": [
      "Current Problem: collections_p1\n"
     ]
    },
    {
     "name": "stdin",
     "output_type": "stream",
     "text": [
      "Type in your answer:\t t\n"
     ]
    },
    {
     "name": "stdout",
     "output_type": "stream",
     "text": [
      "Current Problem: classes_p1\n"
     ]
    },
    {
     "name": "stdin",
     "output_type": "stream",
     "text": [
      "Type in your answer:\t t\n"
     ]
    },
    {
     "name": "stdout",
     "output_type": "stream",
     "text": [
      "Current Problem: collections_p1\n"
     ]
    },
    {
     "name": "stdin",
     "output_type": "stream",
     "text": [
      "Type in your answer:\t t\n"
     ]
    },
    {
     "name": "stdout",
     "output_type": "stream",
     "text": [
      "Current Problem: collections_p1\n"
     ]
    },
    {
     "name": "stdin",
     "output_type": "stream",
     "text": [
      "Type in your answer:\t f\n"
     ]
    },
    {
     "name": "stdout",
     "output_type": "stream",
     "text": [
      "Current Problem: search_p1\n"
     ]
    },
    {
     "name": "stdin",
     "output_type": "stream",
     "text": [
      "Type in your answer:\t t\n"
     ]
    },
    {
     "name": "stdout",
     "output_type": "stream",
     "text": [
      "Current Problem: classes_p1\n"
     ]
    },
    {
     "name": "stdin",
     "output_type": "stream",
     "text": [
      "Type in your answer:\t t\n"
     ]
    },
    {
     "name": "stdout",
     "output_type": "stream",
     "text": [
      "Current Problem: collections_p1\n"
     ]
    },
    {
     "name": "stdin",
     "output_type": "stream",
     "text": [
      "Type in your answer:\t t\n"
     ]
    },
    {
     "name": "stdout",
     "output_type": "stream",
     "text": [
      "Current Problem: search_p2\n"
     ]
    },
    {
     "name": "stdin",
     "output_type": "stream",
     "text": [
      "Type in your answer:\t t\n"
     ]
    },
    {
     "name": "stdout",
     "output_type": "stream",
     "text": [
      "Current Problem: search_p3\n"
     ]
    },
    {
     "name": "stdin",
     "output_type": "stream",
     "text": [
      "Type in your answer:\t t\n"
     ]
    },
    {
     "name": "stdout",
     "output_type": "stream",
     "text": [
      "Current Problem: ml_definitions_and_examples_p1\n"
     ]
    }
   ],
   "source": [
    "# Initialize progression algorithm\n",
    "progression_algorithm = ZPDES_Memory(progression_tree, params = params)\n",
    "\n",
    "problem_give = progression_algorithm.get_current_problem() \n",
    "print(\"Current Problem:\", problem_give)\n",
    "\n",
    "answer = input(\"Type in your answer:\\t\")\n",
    "\n",
    "while answer != \"break\":\n",
    "\n",
    "    if answer == \"T\" or answer == \"t\":\n",
    "        Correctness_of_Student_Answer = True\n",
    "    else:\n",
    "        Correctness_of_Student_Answer = False\n",
    "\n",
    "    progression_algorithm.student_answer_update(Correctness_of_Student_Answer)\n",
    "\n",
    "    problem_give = progression_algorithm.get_current_problem() \n",
    "\n",
    "    print(\"Current Problem:\", problem_give)\n",
    "\n",
    "    answer = input(\"Type in your answer:\\t\")\n",
    "\n",
    "    \n",
    "        \n"
   ]
  },
  {
   "cell_type": "code",
   "execution_count": 16,
   "metadata": {
    "pycharm": {
     "name": "#%%\n"
    }
   },
   "outputs": [
    {
     "name": "stdout",
     "output_type": "stream",
     "text": [
      "intro_p1\n"
     ]
    }
   ],
   "source": [
    "#instantiate a progression algoirthm object\n",
    "\n",
    "progression_algorithm = ZPDES_Memory(progression_tree, params = params)\n",
    "\n",
    "#Get the problem to give to the student\n",
    "problem_give = progression_algorithm.get_current_problem() \n",
    "print(problem_give)"
   ]
  },
  {
   "cell_type": "code",
   "execution_count": 5,
   "metadata": {
    "pycharm": {
     "name": "#%%\n"
    }
   },
   "outputs": [],
   "source": [
    "#Once the student answers, call the student_answer_update to update the state of the algorithm.\n",
    "Correctness_of_Student_Answer = False\n",
    "progression_algorithm.student_answer_update(Correctness_of_Student_Answer)"
   ]
  },
  {
   "cell_type": "code",
   "execution_count": 6,
   "metadata": {
    "pycharm": {
     "name": "#%%\n"
    }
   },
   "outputs": [
    {
     "name": "stdout",
     "output_type": "stream",
     "text": [
      "intro_p2\n"
     ]
    }
   ],
   "source": [
    "#Get the next problem to give to the student\n",
    "problem_give = progression_algorithm.get_current_problem() \n",
    "print(problem_give)"
   ]
  },
  {
   "cell_type": "code",
   "execution_count": 7,
   "metadata": {
    "pycharm": {
     "name": "#%%\n"
    }
   },
   "outputs": [],
   "source": [
    "#The Student answers the next problem\n",
    "Correctness_of_Student_Answer = True\n",
    "progression_algorithm.student_answer_update(Correctness_of_Student_Answer)"
   ]
  },
  {
   "cell_type": "code",
   "execution_count": 8,
   "metadata": {
    "pycharm": {
     "name": "#%%\n"
    }
   },
   "outputs": [
    {
     "name": "stdout",
     "output_type": "stream",
     "text": [
      "problem history: ['intro_p1', 'intro_p2']\n",
      "answer history: [1, 0]\n",
      "^In this case, a answer of 1 indicates incorrect and a answer of 0 indicates correct\n"
     ]
    }
   ],
   "source": [
    "#Get information about the problem and answer history\n",
    "problem_history, answer_history = progression_algorithm.get_progression_student_info()\n",
    "print(\"problem history: \" + str(problem_history))\n",
    "print(\"answer history: \" + str(answer_history))\n",
    "print(\"^In this case, a answer of 1 indicates incorrect and a answer of 0 indicates correct\")"
   ]
  },
  {
   "cell_type": "markdown",
   "metadata": {
    "pycharm": {
     "name": "#%% md\n"
    }
   },
   "source": [
    "# Situation 2: Student has multiple attempts\n",
    "A student is given a problem and has multiple attempts at it. Each attempt is graded but the student must try the problem for a certain number of attempts or until they correctly answer the problem."
   ]
  },
  {
   "cell_type": "code",
   "execution_count": 9,
   "metadata": {
    "pycharm": {
     "name": "#%%\n"
    }
   },
   "outputs": [
    {
     "name": "stdout",
     "output_type": "stream",
     "text": [
      "intro_p1\n"
     ]
    }
   ],
   "source": [
    "#instantiate a progression algoirthm object\n",
    "progression_algorithm = ZPDES_Memory(progression_tree, params = params)\n",
    "\n",
    "#Get the problem to give to the student\n",
    "problem_give = progression_algorithm.get_current_problem() \n",
    "print(problem_give)"
   ]
  },
  {
   "cell_type": "code",
   "execution_count": 10,
   "metadata": {
    "pycharm": {
     "name": "#%%\n"
    }
   },
   "outputs": [],
   "source": [
    "#Once the student answers, call the student_attempt_update to update the state of the algorithm.\n",
    "Correctness_of_Student_Attempt = False\n",
    "progression_algorithm.student_attempt_update(Correctness_of_Student_Attempt)"
   ]
  },
  {
   "cell_type": "code",
   "execution_count": 11,
   "metadata": {
    "pycharm": {
     "name": "#%%\n"
    }
   },
   "outputs": [
    {
     "name": "stdout",
     "output_type": "stream",
     "text": [
      "intro_p1\n"
     ]
    }
   ],
   "source": [
    "#Because the student attempted incorrectly, we are still on the same problem so this should not change\n",
    "problem_give = progression_algorithm.get_current_problem() \n",
    "print(problem_give)"
   ]
  },
  {
   "cell_type": "code",
   "execution_count": 12,
   "metadata": {
    "pycharm": {
     "name": "#%%\n"
    }
   },
   "outputs": [
    {
     "name": "stdout",
     "output_type": "stream",
     "text": [
      "intro_p1\n"
     ]
    }
   ],
   "source": [
    "#The student can attempt a problem wrongly multiple times and will still be on the same problem\n",
    "Correctness_of_Student_Attempt = False\n",
    "progression_algorithm.student_attempt_update(Correctness_of_Student_Attempt)\n",
    "problem_give = progression_algorithm.get_current_problem() \n",
    "print(problem_give)"
   ]
  },
  {
   "cell_type": "code",
   "execution_count": 13,
   "metadata": {
    "pycharm": {
     "name": "#%%\n"
    }
   },
   "outputs": [
    {
     "name": "stdout",
     "output_type": "stream",
     "text": [
      "intro_p2\n"
     ]
    }
   ],
   "source": [
    "#If the student answers correctly, the current problem will be considered completed and a new problem will be selected\n",
    "Correctness_of_Student_Attempt = True\n",
    "progression_algorithm.student_attempt_update(Correctness_of_Student_Attempt)\n",
    "problem_give = progression_algorithm.get_current_problem() \n",
    "print(problem_give)"
   ]
  },
  {
   "cell_type": "code",
   "execution_count": 14,
   "metadata": {
    "pycharm": {
     "name": "#%%\n"
    }
   },
   "outputs": [],
   "source": [
    "#The student attempts the next problem\n",
    "Correctness_of_Student_Attempt = True\n",
    "progression_algorithm.student_attempt_update(Correctness_of_Student_Attempt)"
   ]
  },
  {
   "cell_type": "code",
   "execution_count": 15,
   "metadata": {
    "pycharm": {
     "name": "#%%\n"
    }
   },
   "outputs": [
    {
     "name": "stdout",
     "output_type": "stream",
     "text": [
      "problem history: ['intro_p1', 'intro_p2']\n",
      "answer history: [2, 0]\n"
     ]
    }
   ],
   "source": [
    "#Multiple attempts on a problem all count under one problem, the answer_history lists the number of incorrect attempts on each problem \n",
    "problem_history, answer_history = progression_algorithm.get_progression_student_info()\n",
    "print(\"problem history: \" + str(problem_history))\n",
    "print(\"answer history: \" + str(answer_history))"
   ]
  },
  {
   "cell_type": "code",
   "execution_count": null,
   "metadata": {
    "pycharm": {
     "name": "#%%\n"
    }
   },
   "outputs": [],
   "source": []
  }
 ],
 "metadata": {
  "kernelspec": {
   "display_name": "Python 3 (ipykernel)",
   "language": "python",
   "name": "python3"
  },
  "language_info": {
   "codemirror_mode": {
    "name": "ipython",
    "version": 3
   },
   "file_extension": ".py",
   "mimetype": "text/x-python",
   "name": "python",
   "nbconvert_exporter": "python",
   "pygments_lexer": "ipython3",
   "version": "3.8.9"
  }
 },
 "nbformat": 4,
 "nbformat_minor": 4
}
