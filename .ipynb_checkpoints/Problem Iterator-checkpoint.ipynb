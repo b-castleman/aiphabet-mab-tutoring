{
 "cells": [
  {
   "cell_type": "code",
   "execution_count": 3,
   "id": "763fc6c7-cc40-4de9-a200-7dadbac5e53b",
   "metadata": {
    "scrolled": true
   },
   "outputs": [],
   "source": [
    "## Imports\n",
    "import copy\n",
    "from tree import Build_Tree, Static_Tree\n",
    "import pickle\n",
    "import math\n",
    "import random\n",
    "from ZPDES_Memory import ZPDES_Memory\n",
    "import numpy as np\n",
    "import json\n",
    "\n",
    "def startRecommender(day):\n",
    "    \n",
    "    if not (day >= 1 and day <= 3):\n",
    "        raise Exception(\"Invalid day\")\n",
    "    \n",
    "    ## Load in the trees created from the notebooks in Part1\n",
    "    tree_fn = \"day\" + str(day) + \"_tree.txt\"\n",
    "    progression_tree_static = Static_Tree(tree_filename = tree_fn)\n",
    "    progression_tree = progression_tree_static\n",
    "    \n",
    "    ## Get question bank\n",
    "    with open('./problems/problems.json') as json_file:\n",
    "        question_data = json.load(json_file)\n",
    "    \n",
    "    ## Set parameters\n",
    "    params = {\n",
    "        'history_length': 2,\n",
    "        'progress_threshold': 0.74,\n",
    "        'memory_threshold': math.exp(-12),\n",
    "        'memory_multiplier': 10e10\n",
    "    }\n",
    "    \n",
    "    # Instantiate progression algorithm object\n",
    "    progression_algorithm = ZPDES_Memory(progression_tree, params = params)\n",
    "    \n",
    "    studentAnswer = None\n",
    "    problem_give = -1\n",
    "    \n",
    "    # Iterate through the problem recommendation cycle\n",
    "    while studentAnswer != \"BREAK\" and problem_give != None:\n",
    "    \n",
    "        # Get problem\n",
    "        problem_give = progression_algorithm.get_current_problem() \n",
    "        print(\"Current Problem:\", problem_give)\n",
    "        \n",
    "    \n",
    "        # Get the concept and problem number\n",
    "        splitProblem = problem_give.split(\"_p\")\n",
    "        problemNumber = int(splitProblem[-1]) - 1\n",
    "        conceptName = \"_p\".join(splitProblem[:-1])\n",
    "    \n",
    "        # Get the problem data\n",
    "        problemData = question_data[conceptName][problemNumber]\n",
    "        questionStr = problemData['question']\n",
    "        answerChoices = problemData['choices']\n",
    "        trueSolution = problemData['solution']\n",
    "    \n",
    "        # Print question and answers\n",
    "        print(questionStr)\n",
    "        for i in range(len(answerChoices)):\n",
    "            print(\"  \" + chr(i+65) + \": \" + answerChoices[i])\n",
    "    \n",
    "        # Get answer\n",
    "        studentAnswer = input(\"Type in your answer:\\t\").upper()\n",
    "    \n",
    "        # Figure out what the student answered (i.e. 'abc' -> choices[0:3], 'ad' -> choices[0] & choices[3])\n",
    "        studentChoices = []\n",
    "        for i in range(len(answerChoices)):\n",
    "            if chr(i+65) in studentAnswer:\n",
    "                studentChoices.append(answerChoices[i])\n",
    "    \n",
    "    \n",
    "        # Inform correctness to the student\n",
    "        Correctness_of_Student_Answer = False\n",
    "        if studentChoices == trueSolution:\n",
    "            Correctness_of_Student_Answer = True\n",
    "            print(\"Great job! You're correct! :)\")\n",
    "        else:\n",
    "            print(\"You are incorrect :(, the correct answer was:\")\n",
    "            print(trueSolution)\n",
    "            print(\"Your answer was:\")\n",
    "            print(studentChoices)\n",
    "        \n",
    "    \n",
    "        # Inform correctness to the algorithm\n",
    "        progression_algorithm.student_answer_update(Correctness_of_Student_Answer)\n",
    "        print(\"\\n\\n\")\n",
    "    \n",
    "    if problem_give == None:\n",
    "        print(\"Congratulations! You finished!\")"
   ]
  },
  {
   "cell_type": "code",
   "execution_count": 4,
   "id": "66a7cf44-ace7-4f7c-897a-3256157904fb",
   "metadata": {},
   "outputs": [
    {
     "name": "stdout",
     "output_type": "stream",
     "text": [
      "Current Problem: ai_intro_and_definitions_p1\n",
      "Which comment about the four schools of thought is NOT correct?\n",
      "  A: Acting human-like: The Turing test approach closely aligns with this school of thought.\n",
      "  B: Thinking human-like: Cognitive science and modeling inspires this school of thought.\n",
      "  C: Thinking rationally: This school of thought is the most common approach to AI today.\n",
      "  D: Acting rationally: An agent that acts rationally acts so as to achieve the best outcome.\n"
     ]
    },
    {
     "name": "stdin",
     "output_type": "stream",
     "text": [
      "Type in your answer:\t c\n"
     ]
    },
    {
     "name": "stdout",
     "output_type": "stream",
     "text": [
      "Great job! You're correct! :)\n",
      "\n",
      "\n",
      "\n",
      "Current Problem: ai_intro_and_definitions_p2\n",
      "Which school of thought is concerned with neuroscience?\n",
      "  A: Acting human-like\n",
      "  B: Thinking human-like\n",
      "  C: Thinking rationally\n",
      "  D: Acting rationally\n"
     ]
    },
    {
     "name": "stdin",
     "output_type": "stream",
     "text": [
      "Type in your answer:\t a\n"
     ]
    },
    {
     "name": "stdout",
     "output_type": "stream",
     "text": [
      "You are incorrect :(, the correct answer was:\n",
      "['Thinking human-like']\n",
      "Your answer was:\n",
      "['Acting human-like']\n",
      "\n",
      "\n",
      "\n",
      "Current Problem: ai_intro_and_definitions_p3\n",
      "Which school of thought includes using logical deductions to make inferences of the world?\n",
      "  A: Acting human-like\n",
      "  B: Thinking human-like\n",
      "  C: Thinking rationally\n",
      "  D: Acting rationally\n"
     ]
    },
    {
     "name": "stdin",
     "output_type": "stream",
     "text": [
      "Type in your answer:\t break\n"
     ]
    },
    {
     "name": "stdout",
     "output_type": "stream",
     "text": [
      "You are incorrect :(, the correct answer was:\n",
      "['Thinking rationally']\n",
      "Your answer was:\n",
      "['Acting human-like', 'Thinking human-like']\n",
      "\n",
      "\n",
      "\n"
     ]
    }
   ],
   "source": [
    "\n",
    "# day should be 1 <= day <= 3\n",
    "\n",
    "# Run problem MAB here:\n",
    "startRecommender(day = 1)"
   ]
  },
  {
   "cell_type": "code",
   "execution_count": null,
   "id": "12060c26-2e03-4d71-ac7a-d03832aea9dd",
   "metadata": {},
   "outputs": [],
   "source": []
  }
 ],
 "metadata": {
  "kernelspec": {
   "display_name": "Python 3 (ipykernel)",
   "language": "python",
   "name": "python3"
  },
  "language_info": {
   "codemirror_mode": {
    "name": "ipython",
    "version": 3
   },
   "file_extension": ".py",
   "mimetype": "text/x-python",
   "name": "python",
   "nbconvert_exporter": "python",
   "pygments_lexer": "ipython3",
   "version": "3.8.9"
  }
 },
 "nbformat": 4,
 "nbformat_minor": 5
}
