{
 "cells": [
  {
   "cell_type": "code",
   "execution_count": 2,
   "id": "763fc6c7-cc40-4de9-a200-7dadbac5e53b",
   "metadata": {},
   "outputs": [
    {
     "name": "stdout",
     "output_type": "stream",
     "text": [
      "Current Problem: ai_intro_and_definitions_p1\n",
      "Which comment about the four schools of thought is NOT correct?\n",
      "  A: Acting human-like: The Turing test approach closely aligns with this school of thought.\n",
      "  B: Thinking human-like: Cognitive science and modeling inspires this school of thought.\n",
      "  C: Thinking rationally: This school of thought is the most common approach to AI today.\n",
      "  D: Acting rationally: An agent that acts rationally acts so as to achieve the best outcome.\n"
     ]
    },
    {
     "name": "stdin",
     "output_type": "stream",
     "text": [
      "Type in your answer:\t c\n"
     ]
    },
    {
     "name": "stdout",
     "output_type": "stream",
     "text": [
      "Great job! You're correct! :)\n",
      "\n",
      "\n",
      "\n",
      "Current Problem: ai_intro_and_definitions_p2\n",
      "Which school of thought is concerned with neuroscience?\n",
      "  A: Acting human-like\n",
      "  B: Thinking human-like\n",
      "  C: Thinking rationally\n",
      "  D: Acting rationally\n"
     ]
    },
    {
     "name": "stdin",
     "output_type": "stream",
     "text": [
      "Type in your answer:\t a\n"
     ]
    },
    {
     "name": "stdout",
     "output_type": "stream",
     "text": [
      "You are incorrect :(, the correct answer was:\n",
      "['Thinking human-like']\n",
      "Your answer was:\n",
      "['Acting human-like']\n",
      "\n",
      "\n",
      "\n",
      "Current Problem: ai_intro_and_definitions_p3\n",
      "Which school of thought includes using logical deductions to make inferences of the world?\n",
      "  A: Acting human-like\n",
      "  B: Thinking human-like\n",
      "  C: Thinking rationally\n",
      "  D: Acting rationally\n"
     ]
    },
    {
     "name": "stdin",
     "output_type": "stream",
     "text": [
      "Type in your answer:\t c\n"
     ]
    },
    {
     "name": "stdout",
     "output_type": "stream",
     "text": [
      "Great job! You're correct! :)\n",
      "\n",
      "\n",
      "\n",
      "Current Problem: ai_intro_and_definitions_p2\n",
      "Which school of thought is concerned with neuroscience?\n",
      "  A: Acting human-like\n",
      "  B: Thinking human-like\n",
      "  C: Thinking rationally\n",
      "  D: Acting rationally\n"
     ]
    },
    {
     "name": "stdin",
     "output_type": "stream",
     "text": [
      "Type in your answer:\t b\n"
     ]
    },
    {
     "name": "stdout",
     "output_type": "stream",
     "text": [
      "Great job! You're correct! :)\n",
      "\n",
      "\n",
      "\n",
      "Current Problem: logical_agents_p1\n",
      "Logical agents do which of the following?\n",
      "  A: Use rigid rules to make inferences\n",
      "  B: Contain knowledgebases of their environment\n",
      "  C: Include logical deduction game examples such as Wumpus\n",
      "  D: Encompass examples involving uncertainty\n"
     ]
    },
    {
     "name": "stdin",
     "output_type": "stream",
     "text": [
      "Type in your answer:\t abcd\n"
     ]
    },
    {
     "name": "stdout",
     "output_type": "stream",
     "text": [
      "You are incorrect :(, the correct answer was:\n",
      "['Use rigid rules to make inferences', 'Contain knowledgebases of their environment', 'Include logical deduction game examples such as Wumpus']\n",
      "Your answer was:\n",
      "['Use rigid rules to make inferences', 'Contain knowledgebases of their environment', 'Include logical deduction game examples such as Wumpus', 'Encompass examples involving uncertainty']\n",
      "\n",
      "\n",
      "\n",
      "Current Problem: turing_test_p1\n",
      "Which of the following scenarios can constitute a Turing test (check all that apply)?\n",
      "  A: A machine and a human anonymously submit a letter each to a jury of humans, and the jury has to determine which letter belongs to the human.\n",
      "  B: A robot dances in front of a jury of professional dancers, and the jury ranks the performance of the robot out of 10.\n",
      "  C: A machine and a human drive a car each with opaque windows, and the jury of humans has to guess which car belongs to the human.\n",
      "  D: A robot and a human race in a 100 meters sprint, and the winner gets a special prize.\n"
     ]
    },
    {
     "name": "stdin",
     "output_type": "stream",
     "text": [
      "Type in your answer:\t ac\n"
     ]
    },
    {
     "name": "stdout",
     "output_type": "stream",
     "text": [
      "Great job! You're correct! :)\n",
      "\n",
      "\n",
      "\n",
      "Current Problem: logical_agents_p1\n",
      "Logical agents do which of the following?\n",
      "  A: Use rigid rules to make inferences\n",
      "  B: Contain knowledgebases of their environment\n",
      "  C: Include logical deduction game examples such as Wumpus\n",
      "  D: Encompass examples involving uncertainty\n"
     ]
    },
    {
     "name": "stdin",
     "output_type": "stream",
     "text": [
      "Type in your answer:\t abc\n"
     ]
    },
    {
     "name": "stdout",
     "output_type": "stream",
     "text": [
      "Great job! You're correct! :)\n",
      "\n",
      "\n",
      "\n",
      "Current Problem: history_of_ai_p1\n",
      "What is the correct order of the events given below?\n",
      "\n",
      "a.  Alan Turing published \"Computing Machinery and Intelligence\"\n",
      "b.  McCulloch and Pitts proposed a model for the neuron\n",
      "c.  Deep neural networks were invented and deep learning took over\n",
      "d.  AI research slowed down in a period known as the AI Winter\n",
      "e.  Frank Rosenblatt invented the Perceptron.\n",
      "  A: a → b → d → e → c\n",
      "  B: b → a → d → c → e\n",
      "  C: b → a → e → d → c\n",
      "  D: a → e → b → c → d\n"
     ]
    },
    {
     "name": "stdin",
     "output_type": "stream",
     "text": [
      "Type in your answer:\t c\n"
     ]
    },
    {
     "name": "stdout",
     "output_type": "stream",
     "text": [
      "Great job! You're correct! :)\n",
      "\n",
      "\n",
      "\n",
      "Current Problem: applications_of_ai_p1\n",
      "Consider “DishMe”, a revolutionary AI to fill the dishwasher machine. DishMe can move around the kitchen. You put dirty dishes on the counter or in the sink or on top of the stove, and say no more, just push the button and DishMe will retrieve the dishes, pick them up, organize them in the dishwasher machine, and start a washing cycle. DishMe can handle all types of dishes and does a nifty good job at optimizing the space usage in the machine. What kind of AI applications is DishMe (check all that apply)?\n",
      "  A: Robotics\n",
      "  B: Computer vision\n",
      "  C: Spoken language processing\n",
      "  D: Natural language processing\n",
      "  E: Planning\n",
      "  F: Games\n"
     ]
    },
    {
     "name": "stdin",
     "output_type": "stream",
     "text": [
      "Type in your answer:\t break\n"
     ]
    },
    {
     "name": "stdout",
     "output_type": "stream",
     "text": [
      "Great job! You're correct! :)\n",
      "\n",
      "\n",
      "\n"
     ]
    }
   ],
   "source": [
    "## Imports\n",
    "import copy\n",
    "from tree import Build_Tree, Static_Tree\n",
    "import pickle\n",
    "import math\n",
    "import random\n",
    "from ZPDES_Memory import ZPDES_Memory\n",
    "import numpy as np\n",
    "import json\n",
    "\n",
    "## Select the day\n",
    "day = 1\n",
    "if not (day >= 1 and day <= 3):\n",
    "    raise Exception(\"Invalid day\")\n",
    "\n",
    "## Load in the trees created from the notebooks in Part1\n",
    "tree_fn = \"day\" + str(day) + \"_tree.txt\"\n",
    "progression_tree_static = Static_Tree(tree_filename = tree_fn)\n",
    "progression_tree = progression_tree_static\n",
    "\n",
    "## Get question bank\n",
    "with open('./problems/problems.json') as json_file:\n",
    "    question_data = json.load(json_file)\n",
    "\n",
    "## Set parameters\n",
    "params = {\n",
    "    'history_length': 2,\n",
    "    'progress_threshold': 0.74,\n",
    "    'memory_threshold': math.exp(-12),\n",
    "    'memory_multiplier': 10e10\n",
    "}\n",
    "\n",
    "# Instantiate progression algorithm object\n",
    "progression_algorithm = ZPDES_Memory(progression_tree, params = params)\n",
    "\n",
    "studentAnswer = None\n",
    "problem_give = -1\n",
    "\n",
    "# Iterate through the problem recommendation cycle\n",
    "while studentAnswer != \"BREAK\" and problem_give != None:\n",
    "\n",
    "    # Get problem\n",
    "    problem_give = progression_algorithm.get_current_problem() \n",
    "    print(\"Current Problem:\", problem_give)\n",
    "    \n",
    "\n",
    "    # Get the concept and problem number\n",
    "    splitProblem = problem_give.split(\"_p\")\n",
    "    problemNumber = int(splitProblem[-1]) - 1\n",
    "    conceptName = \"_p\".join(splitProblem[:-1])\n",
    "\n",
    "    # Get the problem data\n",
    "    problemData = question_data[conceptName][problemNumber]\n",
    "    questionStr = problemData['question']\n",
    "    answerChoices = problemData['choices']\n",
    "    trueSolution = problemData['solution']\n",
    "\n",
    "    # Print question and answers\n",
    "    print(questionStr)\n",
    "    for i in range(len(answerChoices)):\n",
    "        print(\"  \" + chr(i+65) + \": \" + answerChoices[i])\n",
    "\n",
    "    # Get answer\n",
    "    studentAnswer = input(\"Type in your answer:\\t\").upper()\n",
    "\n",
    "    # Figure out what the student answered (i.e. 'abc' -> choices[0:3], 'ad' -> choices[0] & choices[3])\n",
    "    studentChoices = []\n",
    "    for i in range(len(answerChoices)):\n",
    "        if chr(i+65) in studentAnswer:\n",
    "            studentChoices.append(answerChoices[i])\n",
    "\n",
    "\n",
    "    # Inform correctness to the student\n",
    "    Correctness_of_Student_Answer = False\n",
    "    if studentChoices == trueSolution:\n",
    "        Correctness_of_Student_Answer = True\n",
    "        print(\"Great job! You're correct! :)\")\n",
    "    else:\n",
    "        print(\"You are incorrect :(, the correct answer was:\")\n",
    "        print(trueSolution)\n",
    "        print(\"Your answer was:\")\n",
    "        print(studentChoices)\n",
    "    \n",
    "\n",
    "    # Inform correctness to the algorithm\n",
    "    progression_algorithm.student_answer_update(Correctness_of_Student_Answer)\n",
    "    print(\"\\n\\n\")\n",
    "\n",
    "if problem_give == None:\n",
    "    print(\"Congratulations! You finished!\")"
   ]
  },
  {
   "cell_type": "code",
   "execution_count": null,
   "id": "96345418-cfe5-4db0-ac71-3e122c135b8e",
   "metadata": {},
   "outputs": [],
   "source": []
  }
 ],
 "metadata": {
  "kernelspec": {
   "display_name": "Python 3 (ipykernel)",
   "language": "python",
   "name": "python3"
  },
  "language_info": {
   "codemirror_mode": {
    "name": "ipython",
    "version": 3
   },
   "file_extension": ".py",
   "mimetype": "text/x-python",
   "name": "python",
   "nbconvert_exporter": "python",
   "pygments_lexer": "ipython3",
   "version": "3.8.9"
  }
 },
 "nbformat": 4,
 "nbformat_minor": 5
}
