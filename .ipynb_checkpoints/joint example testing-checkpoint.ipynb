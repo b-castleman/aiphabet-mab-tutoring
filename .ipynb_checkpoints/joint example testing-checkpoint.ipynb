{
 "cells": [
  {
   "cell_type": "code",
   "execution_count": 1,
   "id": "b412d283-a12a-4d00-9dba-e70301de2305",
   "metadata": {},
   "outputs": [
    {
     "name": "stdout",
     "output_type": "stream",
     "text": [
      "Importing Complete!\n"
     ]
    }
   ],
   "source": [
    "from Joint_Progression_Algorithm import Joint_Progression_Algorithm"
   ]
  },
  {
   "cell_type": "code",
   "execution_count": 2,
   "id": "7c74033a-dd11-4d17-ac88-ee7ef57d0966",
   "metadata": {},
   "outputs": [
    {
     "name": "stdout",
     "output_type": "stream",
     "text": [
      "Probabilities - ZPD:\n",
      "[0.55555556]\n",
      "Probabilities - pa\n",
      "[1.]\n",
      "Concept Seletion\n",
      "['acting_rationally']\n",
      "self.ZPD:\n",
      "['this is q3', 'this is q2', 'this is q1']\n",
      "Last Concept:\n",
      "None\n",
      "ZPD:\n",
      "['this is q3', 'this is q2', 'this is q1']\n",
      "Before for this is q3 : 0.5\n",
      "After for this is q3 : 0.6006073731347579\n",
      "Before for this is q2 : 0.5\n",
      "After for this is q2 : 0.6582653374338108\n",
      "Before for this is q1 : 0.5\n",
      "After for this is q1 : 0.8666265089336976\n",
      "Probabilities - pa\n",
      "[0.28764848 0.31206258 0.40028894]\n",
      "Concept Selection\n",
      "['this is q3', 'this is q2', 'this is q1']\n",
      "self.ZPD:\n",
      "['this is a q1 thing']\n",
      "Last Concept:\n",
      "None\n",
      "ZPD:\n",
      "['this is a q1 thing']\n",
      "Before for this is a q1 thing : 0.5\n",
      "After for this is a q1 thing : 0.8666265089336976\n",
      "Probabilities - pa\n",
      "[1.]\n",
      "Concept Selection\n",
      "['this is a q1 thing']\n",
      "self.ZPD:\n",
      "['this is a q4 thingy']\n",
      "Last Concept:\n",
      "None\n",
      "ZPD:\n",
      "['this is a q4 thingy']\n",
      "Before for this is a q4 thingy : 0.5\n",
      "After for this is a q4 thingy : 0.5737008529860361\n",
      "Probabilities - pa\n",
      "[1.]\n",
      "Concept Selection\n",
      "['this is a q4 thingy']\n"
     ]
    }
   ],
   "source": [
    "algo = Joint_Progression_Algorithm(\"rational_agents\")"
   ]
  },
  {
   "cell_type": "code",
   "execution_count": 11,
   "id": "2beff3c1-34ce-4127-8b77-e5de30c391f7",
   "metadata": {},
   "outputs": [
    {
     "name": "stdout",
     "output_type": "stream",
     "text": [
      "('environment_types', 'this is a q4 thingy')\n"
     ]
    }
   ],
   "source": [
    "print(algo.getCurrentQuestionId())"
   ]
  },
  {
   "cell_type": "code",
   "execution_count": 12,
   "id": "5beea6ad-fb09-401f-a521-071eaa82df4e",
   "metadata": {},
   "outputs": [
    {
     "name": "stdout",
     "output_type": "stream",
     "text": [
      "CORRECTNESS MAP:\n",
      "{'acting_rationally': [0.6192029220221176, 0.0, 1.0, 0.7689414213699951], 'peas': [], 'environment_types': [0.0]}\n",
      "0 : 1 -- 0 : 0\n",
      "Reward:\n",
      "0.0\n",
      "Probabilities - ZPD:\n",
      "[1.33333333 0.33333333]\n",
      "Probabilities - pa\n",
      "[0.8 0.2]\n",
      "Concept Seletion\n",
      "['peas', 'environment_types']\n",
      "Before:\n",
      "{'this is a q4 thingy': [0.5, 0.5, 0.0]}\n",
      "Gamma_b 0.12100000000000002\n",
      "After:\n",
      "{'this is a q4 thingy': [0.5, 0.5, 0.0]}\n",
      "Gamma_a 0.11000000000000001\n",
      "self.ZPD:\n",
      "['this is a q4 thingy']\n",
      "Last Concept:\n",
      "this is a q4 thingy\n",
      "ZPD:\n",
      "['this is a q4 thingy']\n",
      "Before for this is a q4 thingy : 0.25\n",
      "After for this is a q4 thingy : 0.28685042649301806\n",
      "Probabilities - pa\n",
      "[1.]\n",
      "Concept Selection\n",
      "['this is a q4 thingy']\n"
     ]
    }
   ],
   "source": [
    "algo.updateStudentCorrectness(False)"
   ]
  },
  {
   "cell_type": "code",
   "execution_count": null,
   "id": "f3621cd8-83a0-4526-bf91-8d246efcc388",
   "metadata": {},
   "outputs": [],
   "source": []
  },
  {
   "cell_type": "code",
   "execution_count": null,
   "id": "31ced50b-d12b-4619-a9e4-1c6eda6d1d91",
   "metadata": {},
   "outputs": [],
   "source": []
  }
 ],
 "metadata": {
  "kernelspec": {
   "display_name": "Python 3 (ipykernel)",
   "language": "python",
   "name": "python3"
  },
  "language_info": {
   "codemirror_mode": {
    "name": "ipython",
    "version": 3
   },
   "file_extension": ".py",
   "mimetype": "text/x-python",
   "name": "python",
   "nbconvert_exporter": "python",
   "pygments_lexer": "ipython3",
   "version": "3.8.9"
  }
 },
 "nbformat": 4,
 "nbformat_minor": 5
}
