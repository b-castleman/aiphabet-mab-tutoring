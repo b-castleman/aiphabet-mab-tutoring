{
 "cells": [
  {
   "cell_type": "code",
   "execution_count": 1,
   "id": "b412d283-a12a-4d00-9dba-e70301de2305",
   "metadata": {},
   "outputs": [
    {
     "name": "stdout",
     "output_type": "stream",
     "text": [
      "Importing Complete!\n"
     ]
    }
   ],
   "source": [
    "from Joint_Progression_Algorithm import Joint_Progression_Algorithm"
   ]
  },
  {
   "cell_type": "code",
   "execution_count": 2,
   "id": "7c74033a-dd11-4d17-ac88-ee7ef57d0966",
   "metadata": {},
   "outputs": [
    {
     "name": "stdout",
     "output_type": "stream",
     "text": [
      "Probabilities - ZPD:\n",
      "[0.55555556]\n",
      "Probabilities - pa\n",
      "[1.]\n",
      "Concept Seletion\n",
      "['acting_rationally']\n",
      "self.ZPD:\n",
      "[\"this is a placeholder for q3's id\", \"this is a placeholder for q2's id\", \"this is a placeholder for q1's id\"]\n",
      "Last Concept:\n",
      "None\n",
      "ZPD:\n",
      "[\"this is a placeholder for q3's id\", \"this is a placeholder for q2's id\", \"this is a placeholder for q1's id\"]\n",
      "Before for this is a placeholder for q3's id : 0.5\n",
      "After for this is a placeholder for q3's id : 0.6006073731347579\n",
      "Before for this is a placeholder for q2's id : 0.5\n",
      "After for this is a placeholder for q2's id : 0.6582653374338108\n",
      "Before for this is a placeholder for q1's id : 0.5\n",
      "After for this is a placeholder for q1's id : 0.8666265089336976\n",
      "Probabilities - pa\n",
      "[0.28764848 0.31206258 0.40028894]\n",
      "Concept Selection\n",
      "[\"this is a placeholder for q3's id\", \"this is a placeholder for q2's id\", \"this is a placeholder for q1's id\"]\n",
      "self.ZPD:\n",
      "[\"this is a placeholder for q1's id!\"]\n",
      "Last Concept:\n",
      "None\n",
      "ZPD:\n",
      "[\"this is a placeholder for q1's id!\"]\n",
      "Before for this is a placeholder for q1's id! : 0.5\n",
      "After for this is a placeholder for q1's id! : 0.8666265089336976\n",
      "Probabilities - pa\n",
      "[1.]\n",
      "Concept Selection\n",
      "[\"this is a placeholder for q1's id!\"]\n",
      "self.ZPD:\n",
      "[\"this is a placeholder for q4's id!\"]\n",
      "Last Concept:\n",
      "None\n",
      "ZPD:\n",
      "[\"this is a placeholder for q4's id!\"]\n",
      "Before for this is a placeholder for q4's id! : 0.5\n",
      "After for this is a placeholder for q4's id! : 0.5737008529860361\n",
      "Probabilities - pa\n",
      "[1.]\n",
      "Concept Selection\n",
      "[\"this is a placeholder for q4's id!\"]\n"
     ]
    }
   ],
   "source": [
    "algo = Joint_Progression_Algorithm(\"rational_agents\")"
   ]
  },
  {
   "cell_type": "code",
   "execution_count": 3,
   "id": "2beff3c1-34ce-4127-8b77-e5de30c391f7",
   "metadata": {},
   "outputs": [
    {
     "name": "stdout",
     "output_type": "stream",
     "text": [
      "('acting_rationally', \"this is a placeholder for q1's id\")\n"
     ]
    }
   ],
   "source": [
    "print(algo.getCurrentQuestionId())"
   ]
  },
  {
   "cell_type": "code",
   "execution_count": 4,
   "id": "5beea6ad-fb09-401f-a521-071eaa82df4e",
   "metadata": {},
   "outputs": [
    {
     "name": "stdout",
     "output_type": "stream",
     "text": [
      "CORRECTNESS MAP:\n",
      "{'acting_rationally': [0.0], 'peas': [], 'environment_types': []}\n",
      "0 : 1 -- 0 : 0\n",
      "Reward:\n",
      "0.0\n",
      "Probabilities - ZPD:\n",
      "[0.27777778]\n",
      "Probabilities - pa\n",
      "[1.]\n",
      "Concept Seletion\n",
      "['acting_rationally']\n",
      "Before:\n",
      "{\"this is a placeholder for q1's id\": [0.5, 0.5, 0.0], \"this is a placeholder for q2's id\": [0.5, 0.5], \"this is a placeholder for q3's id\": [0.5, 0.5]}\n",
      "Gamma_b 0.1\n",
      "After:\n",
      "{\"this is a placeholder for q1's id\": [0.5, 0.5, 0.0], \"this is a placeholder for q2's id\": [0.5, 0.5], \"this is a placeholder for q3's id\": [0.5, 0.5]}\n",
      "Gamma_a 0.09090909090909091\n",
      "self.ZPD:\n",
      "[\"this is a placeholder for q3's id\", \"this is a placeholder for q2's id\", \"this is a placeholder for q1's id\"]\n",
      "Last Concept:\n",
      "this is a placeholder for q1's id\n",
      "ZPD:\n",
      "[\"this is a placeholder for q3's id\", \"this is a placeholder for q2's id\"]\n",
      "Before for this is a placeholder for q3's id : 0.5\n",
      "After for this is a placeholder for q3's id : 0.4620056716421214\n",
      "Before for this is a placeholder for q2's id : 0.5\n",
      "After for this is a placeholder for q2's id : 0.506357951872162\n",
      "Probabilities - pa\n",
      "[0.47918124 0.52081876]\n",
      "Concept Selection\n",
      "[\"this is a placeholder for q3's id\", \"this is a placeholder for q2's id\"]\n"
     ]
    }
   ],
   "source": [
    "algo.updateStudentCorrectness(False)"
   ]
  },
  {
   "cell_type": "code",
   "execution_count": 5,
   "id": "f3621cd8-83a0-4526-bf91-8d246efcc388",
   "metadata": {},
   "outputs": [
    {
     "name": "stdout",
     "output_type": "stream",
     "text": [
      "('acting_rationally', \"this is a placeholder for q3's id\")\n"
     ]
    }
   ],
   "source": [
    "print(algo.getCurrentQuestionId())"
   ]
  },
  {
   "cell_type": "code",
   "execution_count": 6,
   "id": "31ced50b-d12b-4619-a9e4-1c6eda6d1d91",
   "metadata": {},
   "outputs": [
    {
     "name": "stdout",
     "output_type": "stream",
     "text": [
      "CORRECTNESS MAP:\n",
      "{'acting_rationally': [0.0, 1.0], 'peas': [], 'environment_types': []}\n",
      "0 : 2 -- 0 : 0\n",
      "Reward:\n",
      "0.5\n",
      "Probabilities - ZPD:\n",
      "[0.37037037]\n",
      "Probabilities - pa\n",
      "[1.]\n",
      "Concept Seletion\n",
      "['acting_rationally']\n",
      "Before:\n",
      "{\"this is a placeholder for q1's id\": [0.5, 0.5, 0.0], \"this is a placeholder for q2's id\": [0.5, 0.5], \"this is a placeholder for q3's id\": [0.5, 0.5, 1.0]}\n",
      "Gamma_b 0.09090909090909091\n",
      "After:\n",
      "{\"this is a placeholder for q1's id\": [0.5, 0.5, 0.0], \"this is a placeholder for q2's id\": [0.5, 0.5], \"this is a placeholder for q3's id\": [0.5, 0.5, 1.0]}\n",
      "Gamma_a 0.1\n",
      "self.ZPD:\n",
      "[\"this is a placeholder for q2's id\", \"this is a placeholder for q1's id\"]\n",
      "Last Concept:\n",
      "this is a placeholder for q3's id\n",
      "ZPD:\n",
      "[\"this is a placeholder for q2's id\", \"this is a placeholder for q1's id\"]\n",
      "Before for this is a placeholder for q2's id : 0.5\n",
      "After for this is a placeholder for q2's id : 0.506357951872162\n",
      "Before for this is a placeholder for q1's id : 0.25\n",
      "After for this is a placeholder for q1's id : 0.4333132544668488\n",
      "Probabilities - pa\n",
      "[0.53498044 0.46501956]\n",
      "Concept Selection\n",
      "[\"this is a placeholder for q2's id\", \"this is a placeholder for q1's id\"]\n"
     ]
    }
   ],
   "source": [
    "algo.updateStudentCorrectness(True)"
   ]
  },
  {
   "cell_type": "code",
   "execution_count": null,
   "id": "3ac2b1e5-d603-46df-971d-a3fa821a4f66",
   "metadata": {},
   "outputs": [],
   "source": []
  }
 ],
 "metadata": {
  "kernelspec": {
   "display_name": "Python 3 (ipykernel)",
   "language": "python",
   "name": "python3"
  },
  "language_info": {
   "codemirror_mode": {
    "name": "ipython",
    "version": 3
   },
   "file_extension": ".py",
   "mimetype": "text/x-python",
   "name": "python",
   "nbconvert_exporter": "python",
   "pygments_lexer": "ipython3",
   "version": "3.8.9"
  }
 },
 "nbformat": 4,
 "nbformat_minor": 5
}
